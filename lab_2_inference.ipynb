{
 "cells": [
  {
   "cell_type": "code",
   "execution_count": 1,
   "id": "37f40208",
   "metadata": {
    "execution": {
     "iopub.execute_input": "2023-03-17T19:19:26.771580Z",
     "iopub.status.busy": "2023-03-17T19:19:26.770763Z",
     "iopub.status.idle": "2023-03-17T19:19:28.802491Z",
     "shell.execute_reply": "2023-03-17T19:19:28.801416Z"
    },
    "papermill": {
     "duration": 2.081433,
     "end_time": "2023-03-17T19:19:28.805817",
     "exception": false,
     "start_time": "2023-03-17T19:19:26.724384",
     "status": "completed"
    },
    "tags": []
   },
   "outputs": [],
   "source": [
    "import pickle\n",
    "import numpy as np\n",
    "import pandas as pd\n",
    "import matplotlib.pyplot as plt\n",
    "import seaborn as sns\n",
    "from sklearn.metrics import accuracy_score,roc_auc_score,confusion_matrix,classification_report\n",
    "import os\n",
    "import datetime"
   ]
  },
  {
   "cell_type": "code",
   "execution_count": 2,
   "id": "6f997f93",
   "metadata": {
    "execution": {
     "iopub.execute_input": "2023-03-17T19:19:28.814775Z",
     "iopub.status.busy": "2023-03-17T19:19:28.814157Z",
     "iopub.status.idle": "2023-03-17T19:19:28.829849Z",
     "shell.execute_reply": "2023-03-17T19:19:28.828904Z"
    },
    "papermill": {
     "duration": 0.023156,
     "end_time": "2023-03-17T19:19:28.832477",
     "exception": false,
     "start_time": "2023-03-17T19:19:28.809321",
     "status": "completed"
    },
    "tags": []
   },
   "outputs": [],
   "source": [
    "from utils import preprocess_data"
   ]
  },
  {
   "cell_type": "code",
   "execution_count": 3,
   "id": "1e050ae4",
   "metadata": {
    "execution": {
     "iopub.execute_input": "2023-03-17T19:19:28.841657Z",
     "iopub.status.busy": "2023-03-17T19:19:28.841206Z",
     "iopub.status.idle": "2023-03-17T19:19:28.893758Z",
     "shell.execute_reply": "2023-03-17T19:19:28.892031Z"
    },
    "papermill": {
     "duration": 0.064335,
     "end_time": "2023-03-17T19:19:28.900870",
     "exception": false,
     "start_time": "2023-03-17T19:19:28.836535",
     "status": "completed"
    },
    "tags": []
   },
   "outputs": [],
   "source": [
    "#load pickled xgboost model\n",
    "file_name = 'xgb_classifier_from_greedsearch.pkl'\n",
    "\n",
    "xgb_model = pickle.load(open(file_name, 'rb'))"
   ]
  },
  {
   "cell_type": "code",
   "execution_count": 4,
   "id": "5684e59e",
   "metadata": {
    "execution": {
     "iopub.execute_input": "2023-03-17T19:19:28.936115Z",
     "iopub.status.busy": "2023-03-17T19:19:28.935206Z",
     "iopub.status.idle": "2023-03-17T19:19:28.966014Z",
     "shell.execute_reply": "2023-03-17T19:19:28.964691Z"
    },
    "papermill": {
     "duration": 0.045343,
     "end_time": "2023-03-17T19:19:28.970053",
     "exception": false,
     "start_time": "2023-03-17T19:19:28.924710",
     "status": "completed"
    },
    "tags": []
   },
   "outputs": [],
   "source": [
    "x = datetime.datetime.now()\n",
    "\n",
    "version_stamp= x.strftime(\"%B-%d\")\n",
    "\n",
    "dataset_name = f'customer_data_augmented{version_stamp}.csv'\n",
    "\n",
    "file_path = os.path.join(os.path.abspath(os.curdir), 'lab_2_artifacts', dataset_name)\n",
    "\n",
    "df = pd.read_csv(file_path)"
   ]
  },
  {
   "cell_type": "code",
   "execution_count": 5,
   "id": "5f80098c",
   "metadata": {
    "execution": {
     "iopub.execute_input": "2023-03-17T19:19:28.998512Z",
     "iopub.status.busy": "2023-03-17T19:19:28.997118Z",
     "iopub.status.idle": "2023-03-17T19:19:29.018034Z",
     "shell.execute_reply": "2023-03-17T19:19:29.016745Z"
    },
    "papermill": {
     "duration": 0.046102,
     "end_time": "2023-03-17T19:19:29.021658",
     "exception": false,
     "start_time": "2023-03-17T19:19:28.975556",
     "status": "completed"
    },
    "tags": []
   },
   "outputs": [],
   "source": [
    "X_train, X_test, y_train, y_test = preprocess_data(df)"
   ]
  },
  {
   "cell_type": "code",
   "execution_count": 6,
   "id": "44814c4c",
   "metadata": {
    "execution": {
     "iopub.execute_input": "2023-03-17T19:19:29.032833Z",
     "iopub.status.busy": "2023-03-17T19:19:29.032316Z",
     "iopub.status.idle": "2023-03-17T19:19:29.044811Z",
     "shell.execute_reply": "2023-03-17T19:19:29.043746Z"
    },
    "papermill": {
     "duration": 0.022868,
     "end_time": "2023-03-17T19:19:29.049123",
     "exception": false,
     "start_time": "2023-03-17T19:19:29.026255",
     "status": "completed"
    },
    "tags": []
   },
   "outputs": [
    {
     "data": {
      "text/plain": [
       "((908, 11), (227, 11), (908, 1), (227, 1))"
      ]
     },
     "execution_count": 6,
     "metadata": {},
     "output_type": "execute_result"
    }
   ],
   "source": [
    "X_train.shape, X_test.shape, y_train.shape, y_test.shape"
   ]
  },
  {
   "cell_type": "code",
   "execution_count": 7,
   "id": "2135d9ca",
   "metadata": {
    "execution": {
     "iopub.execute_input": "2023-03-17T19:19:29.062582Z",
     "iopub.status.busy": "2023-03-17T19:19:29.061610Z",
     "iopub.status.idle": "2023-03-17T19:19:29.078200Z",
     "shell.execute_reply": "2023-03-17T19:19:29.077043Z"
    },
    "papermill": {
     "duration": 0.027768,
     "end_time": "2023-03-17T19:19:29.081860",
     "exception": false,
     "start_time": "2023-03-17T19:19:29.054092",
     "status": "completed"
    },
    "tags": []
   },
   "outputs": [
    {
     "name": "stdout",
     "output_type": "stream",
     "text": [
      "Accuracy: 79.74%\n",
      "AUC: 65.46%\n"
     ]
    }
   ],
   "source": [
    "predicted = xgb_model.predict(X_test)\n",
    "probs_predict = xgb_model.predict_proba(X_test)[:,1]\n",
    "\n",
    "accuracy = accuracy_score(y_test, predicted)\n",
    "auc = roc_auc_score(y_test, probs_predict)\n",
    "\n",
    "print('Accuracy: %.2f%%' % (accuracy * 100.0))\n",
    "print('AUC: %.2f%%' % (auc * 100.0))"
   ]
  },
  {
   "cell_type": "code",
   "execution_count": 8,
   "id": "8e86407e",
   "metadata": {
    "execution": {
     "iopub.execute_input": "2023-03-17T19:19:29.151689Z",
     "iopub.status.busy": "2023-03-17T19:19:29.151057Z",
     "iopub.status.idle": "2023-03-17T19:19:29.161925Z",
     "shell.execute_reply": "2023-03-17T19:19:29.160685Z"
    },
    "papermill": {
     "duration": 0.037334,
     "end_time": "2023-03-17T19:19:29.165568",
     "exception": false,
     "start_time": "2023-03-17T19:19:29.128234",
     "status": "completed"
    },
    "tags": []
   },
   "outputs": [],
   "source": [
    "#Plot the ROC curve\n",
    "confusion_matrix = confusion_matrix(y_test, predicted)"
   ]
  },
  {
   "cell_type": "code",
   "execution_count": 9,
   "id": "1ca4f6a1",
   "metadata": {
    "execution": {
     "iopub.execute_input": "2023-03-17T19:19:29.179096Z",
     "iopub.status.busy": "2023-03-17T19:19:29.178576Z",
     "iopub.status.idle": "2023-03-17T19:19:29.683251Z",
     "shell.execute_reply": "2023-03-17T19:19:29.682371Z"
    },
    "papermill": {
     "duration": 0.514561,
     "end_time": "2023-03-17T19:19:29.685757",
     "exception": false,
     "start_time": "2023-03-17T19:19:29.171196",
     "status": "completed"
    },
    "tags": []
   },
   "outputs": [
    {
     "data": {
      "image/png": "[encoded data removed]",
      "text/plain": [
       "<Figure size 640x480 with 2 Axes>"
      ]
     },
     "metadata": {},
     "output_type": "display_data"
    }
   ],
   "source": [
    "group_names = ['True Neg','False Pos','False Neg','True Pos']\n",
    "\n",
    " #computing variables for specific confusion matrix\n",
    "group_counts = [\"{0:0.0f}\".format(value) for value in confusion_matrix.flatten()]\n",
    "group_percentages = [\"{0:.2%}\".format(value) for value in confusion_matrix.flatten()/np.sum(confusion_matrix)]\n",
    "labels = [f\"{v1}\\n{v2}\\n{v3}\" for v1, v2, v3 in zip(group_names,group_counts,group_percentages)]\n",
    "labels = np.asarray(labels).reshape(2,2)\n",
    "sns.heatmap(confusion_matrix, annot=labels, fmt='', cmap='Blues')\n",
    "plt.savefig('lab_2_artifacts/confusion_matrix.png')\n"
   ]
  },
  {
   "cell_type": "code",
   "execution_count": 10,
   "id": "6cd527ce",
   "metadata": {
    "execution": {
     "iopub.execute_input": "2023-03-17T19:19:29.696208Z",
     "iopub.status.busy": "2023-03-17T19:19:29.695784Z",
     "iopub.status.idle": "2023-03-17T19:19:29.703220Z",
     "shell.execute_reply": "2023-03-17T19:19:29.702019Z"
    },
    "papermill": {
     "duration": 0.015548,
     "end_time": "2023-03-17T19:19:29.706182",
     "exception": false,
     "start_time": "2023-03-17T19:19:29.690634",
     "status": "completed"
    },
    "tags": []
   },
   "outputs": [
    {
     "name": "stdout",
     "output_type": "stream",
     "text": [
      "[0.         0.         0.         0.68338    0.         0.\n",
      " 0.         0.31661996 0.         0.         0.        ]\n"
     ]
    }
   ],
   "source": [
    "print(xgb_model.feature_importances_)"
   ]
  },
  {
   "cell_type": "code",
   "execution_count": 11,
   "id": "e0987623",
   "metadata": {
    "execution": {
     "iopub.execute_input": "2023-03-17T19:19:29.716665Z",
     "iopub.status.busy": "2023-03-17T19:19:29.716199Z",
     "iopub.status.idle": "2023-03-17T19:19:30.147559Z",
     "shell.execute_reply": "2023-03-17T19:19:30.146702Z"
    },
    "papermill": {
     "duration": 0.440055,
     "end_time": "2023-03-17T19:19:30.150052",
     "exception": false,
     "start_time": "2023-03-17T19:19:29.709997",
     "status": "completed"
    },
    "tags": []
   },
   "outputs": [
    {
     "data": {
      "image/png": "[encoded data removed]",
      "text/plain": [
       "<Figure size 640x480 with 1 Axes>"
      ]
     },
     "metadata": {},
     "output_type": "display_data"
    }
   ],
   "source": [
    "plt.bar(range(len(xgb_model.feature_importances_)), df.columns[2:])\n",
    "plt.savefig('lab_2_artifacts/feature_importance.png')\n",
    "plt.show()\n"
   ]
  },
  {
   "cell_type": "code",
   "execution_count": null,
   "id": "f0641ad1",
   "metadata": {
    "papermill": {
     "duration": 0.005424,
     "end_time": "2023-03-17T19:19:30.160051",
     "exception": false,
     "start_time": "2023-03-17T19:19:30.154627",
     "status": "completed"
    },
    "tags": []
   },
   "outputs": [],
   "source": []
  }
 ],
 "metadata": {
  "kernelspec": {
   "display_name": ".venv",
   "language": "python",
   "name": "python3"
  },
  "language_info": {
   "codemirror_mode": {
    "name": "ipython",
    "version": 3
   },
   "file_extension": ".py",
   "mimetype": "text/x-python",
   "name": "python",
   "nbconvert_exporter": "python",
   "pygments_lexer": "ipython3",
   "version": "3.10.10"
  },
  "papermill": {
   "default_parameters": {},
   "duration": 6.14149,
   "end_time": "2023-03-17T19:19:30.689555",
   "environment_variables": {},
   "exception": null,
   "input_path": "lab_2_inference.ipynb",
   "output_path": "lab_2_inference.ipynb",
   "parameters": {},
   "start_time": "2023-03-17T19:19:24.548065",
   "version": "2.4.0"
  }
 },
 "nbformat": 4,
 "nbformat_minor": 5
}
