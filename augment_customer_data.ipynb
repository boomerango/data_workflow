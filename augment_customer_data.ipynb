{
 "cells": [
  {
   "cell_type": "code",
   "execution_count": 1,
   "id": "1bac2ba6",
   "metadata": {
    "execution": {
     "iopub.execute_input": "2023-03-17T19:19:07.209741Z",
     "iopub.status.busy": "2023-03-17T19:19:07.208234Z",
     "iopub.status.idle": "2023-03-17T19:19:09.932086Z",
     "shell.execute_reply": "2023-03-17T19:19:09.930715Z"
    },
    "papermill": {
     "duration": 2.734027,
     "end_time": "2023-03-17T19:19:09.935030",
     "exception": false,
     "start_time": "2023-03-17T19:19:07.201003",
     "status": "completed"
    },
    "tags": []
   },
   "outputs": [],
   "source": [
    "from distfit import  distfit\n",
    "import  numpy  as  np\n",
    "import pandas as pd\n",
    "import datetime\n"
   ]
  },
  {
   "cell_type": "code",
   "execution_count": 2,
   "id": "e5e21965",
   "metadata": {
    "execution": {
     "iopub.execute_input": "2023-03-17T19:19:09.944279Z",
     "iopub.status.busy": "2023-03-17T19:19:09.943301Z",
     "iopub.status.idle": "2023-03-17T19:19:09.957940Z",
     "shell.execute_reply": "2023-03-17T19:19:09.956772Z"
    },
    "papermill": {
     "duration": 0.021633,
     "end_time": "2023-03-17T19:19:09.960398",
     "exception": false,
     "start_time": "2023-03-17T19:19:09.938765",
     "status": "completed"
    },
    "tags": []
   },
   "outputs": [],
   "source": [
    "df = pd.read_csv( 'customer_data.csv' )"
   ]
  },
  {
   "cell_type": "code",
   "execution_count": 3,
   "id": "7b4d15ac",
   "metadata": {
    "execution": {
     "iopub.execute_input": "2023-03-17T19:19:09.967235Z",
     "iopub.status.busy": "2023-03-17T19:19:09.966870Z",
     "iopub.status.idle": "2023-03-17T19:19:09.981890Z",
     "shell.execute_reply": "2023-03-17T19:19:09.980562Z"
    },
    "papermill": {
     "duration": 0.021543,
     "end_time": "2023-03-17T19:19:09.984686",
     "exception": false,
     "start_time": "2023-03-17T19:19:09.963143",
     "status": "completed"
    },
    "tags": []
   },
   "outputs": [],
   "source": [
    "df.fillna(df.median(), inplace=True)"
   ]
  },
  {
   "cell_type": "code",
   "execution_count": 4,
   "id": "fa73d94e",
   "metadata": {
    "execution": {
     "iopub.execute_input": "2023-03-17T19:19:09.992553Z",
     "iopub.status.busy": "2023-03-17T19:19:09.991847Z",
     "iopub.status.idle": "2023-03-17T19:19:09.999619Z",
     "shell.execute_reply": "2023-03-17T19:19:09.998621Z"
    },
    "papermill": {
     "duration": 0.014663,
     "end_time": "2023-03-17T19:19:10.002399",
     "exception": false,
     "start_time": "2023-03-17T19:19:09.987736",
     "status": "completed"
    },
    "tags": []
   },
   "outputs": [],
   "source": [
    "def generate_syntetic_data(df, col, n_samples):\n",
    "    dfit = distfit()\n",
    "    dfit.fit_transform(df[col].values, verbose=50)\n",
    "    rounding =0 if col =='id' or 'label' else 1\n",
    "    generated = np.round(dfit.generate(n_samples),rounding)\n",
    "    return generated"
   ]
  },
  {
   "cell_type": "code",
   "execution_count": 5,
   "id": "5a394222",
   "metadata": {
    "execution": {
     "iopub.execute_input": "2023-03-17T19:19:10.010371Z",
     "iopub.status.busy": "2023-03-17T19:19:10.009693Z",
     "iopub.status.idle": "2023-03-17T19:19:10.016564Z",
     "shell.execute_reply": "2023-03-17T19:19:10.015669Z"
    },
    "papermill": {
     "duration": 0.013827,
     "end_time": "2023-03-17T19:19:10.019319",
     "exception": false,
     "start_time": "2023-03-17T19:19:10.005492",
     "status": "completed"
    },
    "tags": []
   },
   "outputs": [],
   "source": [
    "def combine_data(df, n_samples):\n",
    "    core_df = pd.DataFrame({'label':generate_syntetic_data(df, 'label', n_samples)})\n",
    "    for i in df.columns[1:]:\n",
    "        print('curr i is: ',i)\n",
    "        print('columns present in core_df are: ',core_df.columns)\n",
    "        rf = pd.DataFrame({ i: generate_syntetic_data(df, i, n_samples) })\n",
    "        core_df = core_df.join(rf)\n",
    "    return core_df"
   ]
  },
  {
   "cell_type": "code",
   "execution_count": 6,
   "id": "93aed8f7",
   "metadata": {
    "execution": {
     "iopub.execute_input": "2023-03-17T19:19:10.027631Z",
     "iopub.status.busy": "2023-03-17T19:19:10.026950Z",
     "iopub.status.idle": "2023-03-17T19:19:22.976503Z",
     "shell.execute_reply": "2023-03-17T19:19:22.975293Z"
    },
    "papermill": {
     "duration": 12.956712,
     "end_time": "2023-03-17T19:19:22.979093",
     "exception": false,
     "start_time": "2023-03-17T19:19:10.022381",
     "status": "completed"
    },
    "tags": []
   },
   "outputs": [
    {
     "name": "stdout",
     "output_type": "stream",
     "text": [
      "curr i is:  id\n",
      "columns present in core_df are:  Index(['label'], dtype='object')\n"
     ]
    },
    {
     "name": "stdout",
     "output_type": "stream",
     "text": [
      "curr i is:  fea_1\n",
      "columns present in core_df are:  Index(['label', 'id'], dtype='object')\n"
     ]
    },
    {
     "name": "stdout",
     "output_type": "stream",
     "text": [
      "curr i is:  fea_2\n",
      "columns present in core_df are:  Index(['label', 'id', 'fea_1'], dtype='object')\n"
     ]
    },
    {
     "name": "stdout",
     "output_type": "stream",
     "text": [
      "curr i is:  fea_3\n",
      "columns present in core_df are:  Index(['label', 'id', 'fea_1', 'fea_2'], dtype='object')\n"
     ]
    },
    {
     "name": "stdout",
     "output_type": "stream",
     "text": [
      "curr i is:  fea_4\n",
      "columns present in core_df are:  Index(['label', 'id', 'fea_1', 'fea_2', 'fea_3'], dtype='object')\n"
     ]
    },
    {
     "name": "stdout",
     "output_type": "stream",
     "text": [
      "curr i is:  fea_5\n",
      "columns present in core_df are:  Index(['label', 'id', 'fea_1', 'fea_2', 'fea_3', 'fea_4'], dtype='object')\n"
     ]
    },
    {
     "name": "stdout",
     "output_type": "stream",
     "text": [
      "curr i is:  fea_6\n",
      "columns present in core_df are:  Index(['label', 'id', 'fea_1', 'fea_2', 'fea_3', 'fea_4', 'fea_5'], dtype='object')\n"
     ]
    },
    {
     "name": "stdout",
     "output_type": "stream",
     "text": [
      "curr i is:  fea_7\n",
      "columns present in core_df are:  Index(['label', 'id', 'fea_1', 'fea_2', 'fea_3', 'fea_4', 'fea_5', 'fea_6'], dtype='object')\n"
     ]
    },
    {
     "name": "stdout",
     "output_type": "stream",
     "text": [
      "curr i is:  fea_8\n",
      "columns present in core_df are:  Index(['label', 'id', 'fea_1', 'fea_2', 'fea_3', 'fea_4', 'fea_5', 'fea_6',\n",
      "       'fea_7'],\n",
      "      dtype='object')\n"
     ]
    },
    {
     "name": "stdout",
     "output_type": "stream",
     "text": [
      "curr i is:  fea_9\n",
      "columns present in core_df are:  Index(['label', 'id', 'fea_1', 'fea_2', 'fea_3', 'fea_4', 'fea_5', 'fea_6',\n",
      "       'fea_7', 'fea_8'],\n",
      "      dtype='object')\n"
     ]
    },
    {
     "name": "stdout",
     "output_type": "stream",
     "text": [
      "curr i is:  fea_10\n",
      "columns present in core_df are:  Index(['label', 'id', 'fea_1', 'fea_2', 'fea_3', 'fea_4', 'fea_5', 'fea_6',\n",
      "       'fea_7', 'fea_8', 'fea_9'],\n",
      "      dtype='object')\n"
     ]
    },
    {
     "name": "stdout",
     "output_type": "stream",
     "text": [
      "curr i is:  fea_11\n",
      "columns present in core_df are:  Index(['label', 'id', 'fea_1', 'fea_2', 'fea_3', 'fea_4', 'fea_5', 'fea_6',\n",
      "       'fea_7', 'fea_8', 'fea_9', 'fea_10'],\n",
      "      dtype='object')\n"
     ]
    }
   ],
   "source": [
    "\n",
    "appendix = combine_data(df, 10)"
   ]
  },
  {
   "cell_type": "code",
   "execution_count": 7,
   "id": "6c1ec687",
   "metadata": {
    "execution": {
     "iopub.execute_input": "2023-03-17T19:19:22.990777Z",
     "iopub.status.busy": "2023-03-17T19:19:22.990368Z",
     "iopub.status.idle": "2023-03-17T19:19:23.000907Z",
     "shell.execute_reply": "2023-03-17T19:19:22.999460Z"
    },
    "papermill": {
     "duration": 0.02146,
     "end_time": "2023-03-17T19:19:23.004253",
     "exception": false,
     "start_time": "2023-03-17T19:19:22.982793",
     "status": "completed"
    },
    "tags": []
   },
   "outputs": [],
   "source": [
    "df = pd.concat([df, appendix])"
   ]
  },
  {
   "cell_type": "code",
   "execution_count": 8,
   "id": "1290d5a9",
   "metadata": {
    "execution": {
     "iopub.execute_input": "2023-03-17T19:19:23.015071Z",
     "iopub.status.busy": "2023-03-17T19:19:23.014192Z",
     "iopub.status.idle": "2023-03-17T19:19:23.037892Z",
     "shell.execute_reply": "2023-03-17T19:19:23.036594Z"
    },
    "papermill": {
     "duration": 0.031335,
     "end_time": "2023-03-17T19:19:23.040450",
     "exception": false,
     "start_time": "2023-03-17T19:19:23.009115",
     "status": "completed"
    },
    "tags": []
   },
   "outputs": [],
   "source": [
    "x = datetime.datetime.now()\n",
    "\n",
    "version_stamp= x.strftime(\"%B-%d\")\n",
    "\n",
    "name = f'lab_2_artifacts/customer_data_augmented{version_stamp}.csv'\n",
    "df.to_csv( name , index=False)"
   ]
  },
  {
   "cell_type": "code",
   "execution_count": null,
   "id": "2ff32e9c",
   "metadata": {
    "papermill": {
     "duration": 0.003358,
     "end_time": "2023-03-17T19:19:23.047364",
     "exception": false,
     "start_time": "2023-03-17T19:19:23.044006",
     "status": "completed"
    },
    "tags": []
   },
   "outputs": [],
   "source": []
  }
 ],
 "metadata": {
  "kernelspec": {
   "display_name": ".venv",
   "language": "python",
   "name": "python3"
  },
  "language_info": {
   "codemirror_mode": {
    "name": "ipython",
    "version": 3
   },
   "file_extension": ".py",
   "mimetype": "text/x-python",
   "name": "python",
   "nbconvert_exporter": "python",
   "pygments_lexer": "ipython3",
   "version": "3.10.10"
  },
  "papermill": {
   "default_parameters": {},
   "duration": 21.65219,
   "end_time": "2023-03-17T19:19:23.608244",
   "environment_variables": {},
   "exception": null,
   "input_path": "augment_customer_data.ipynb",
   "output_path": "augment_customer_data.ipynb",
   "parameters": {},
   "start_time": "2023-03-17T19:19:01.956054",
   "version": "2.4.0"
  }
 },
 "nbformat": 4,
 "nbformat_minor": 5
}